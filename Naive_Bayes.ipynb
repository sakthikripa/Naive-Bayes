{
  "cells": [
    {
      "cell_type": "markdown",
      "id": "bc97d6da",
      "metadata": {
        "id": "bc97d6da"
      },
      "source": [
        "## Naive Bayes\n",
        "\n",
        "You will be dealing with movie review data that includes both positive and negative reviews in this assignment. You will use Sentiment Analysis to assess if a given review is positive or negative using the provided dataset.\n",
        "\n",
        "Therefore, we will make use of Naive Bayes algorithm to perform sentiment analysis on the movie review dataset.\n",
        "\n",
        "## Importing the Libraries"
      ]
    },
    {
      "cell_type": "code",
      "execution_count": null,
      "id": "a03450ac",
      "metadata": {
        "colab": {
          "base_uri": "https://localhost:8080/"
        },
        "id": "a03450ac",
        "outputId": "3622375b-ef1a-40d1-bdf2-e72c3c31e7f0"
      },
      "outputs": [
        {
          "name": "stderr",
          "output_type": "stream",
          "text": [
            "[nltk_data] Downloading package stopwords to\n",
            "[nltk_data]     /Users/sakthikripaselvan/nltk_data...\n",
            "[nltk_data]   Package stopwords is already up-to-date!\n",
            "[nltk_data] Downloading package punkt to\n",
            "[nltk_data]     /Users/sakthikripaselvan/nltk_data...\n",
            "[nltk_data]   Package punkt is already up-to-date!\n",
            "[nltk_data] Downloading package wordnet to\n",
            "[nltk_data]     /Users/sakthikripaselvan/nltk_data...\n",
            "[nltk_data]   Package wordnet is already up-to-date!\n",
            "[nltk_data] Downloading package omw-1.4 to\n",
            "[nltk_data]     /Users/sakthikripaselvan/nltk_data...\n",
            "[nltk_data]   Package omw-1.4 is already up-to-date!\n"
          ]
        }
      ],
      "source": [
        "import numpy as np\n",
        "import math\n",
        "import pandas as pd\n",
        "import re\n",
        "import nltk\n",
        "import string\n",
        "from nltk.corpus import stopwords\n",
        "from nltk.stem import PorterStemmer\n",
        "from nltk.tokenize import word_tokenize, RegexpTokenizer\n",
        "from nltk.stem import WordNetLemmatizer\n",
        "import warnings\n",
        "from sklearn.model_selection import train_test_split\n",
        "nltk.download('stopwords')\n",
        "nltk.download('punkt')\n",
        "nltk.download('wordnet')\n",
        "nltk.download('omw-1.4')\n",
        "import seaborn as sns\n",
        "import matplotlib.pyplot as plt\n",
        "from sklearn.metrics import confusion_matrix\n",
        "warnings.filterwarnings(\"ignore\")"
      ]
    },
    {
      "cell_type": "markdown",
      "id": "fc584cc2",
      "metadata": {
        "id": "fc584cc2"
      },
      "source": [
        "## Reading the data\n",
        "\n",
        "When reading the data, ensure that the '.csv' file is in the same location where your jupyter notebook is used. This way the files are organized and easy to read using the pandas library. "
      ]
    },
    {
      "cell_type": "code",
      "execution_count": null,
      "id": "3c9ffbf5",
      "metadata": {
        "id": "3c9ffbf5"
      },
      "outputs": [],
      "source": [
        "## Reading the data and removing columns that are not important. \n",
        "df = pd.read_csv(\"movie_reviews.csv\", sep = ',', encoding = 'latin-1', usecols = lambda col: col not in [\"Unnamed: 2\", \"Unnamed: 3\", \"Unnamed: 4\"])"
      ]
    },
    {
      "cell_type": "code",
      "execution_count": null,
      "id": "f7fa8ac0",
      "metadata": {
        "colab": {
          "base_uri": "https://localhost:8080/",
          "height": 204
        },
        "id": "f7fa8ac0",
        "outputId": "deae0afb-8afe-4798-b640-31de7276f555"
      },
      "outputs": [
        {
          "data": {
            "text/html": [
              "<div>\n",
              "<style scoped>\n",
              "    .dataframe tbody tr th:only-of-type {\n",
              "        vertical-align: middle;\n",
              "    }\n",
              "\n",
              "    .dataframe tbody tr th {\n",
              "        vertical-align: top;\n",
              "    }\n",
              "\n",
              "    .dataframe thead th {\n",
              "        text-align: right;\n",
              "    }\n",
              "</style>\n",
              "<table border=\"1\" class=\"dataframe\">\n",
              "  <thead>\n",
              "    <tr style=\"text-align: right;\">\n",
              "      <th></th>\n",
              "      <th>review</th>\n",
              "      <th>sentiment</th>\n",
              "    </tr>\n",
              "  </thead>\n",
              "  <tbody>\n",
              "    <tr>\n",
              "      <th>0</th>\n",
              "      <td>One of the other reviewers has mentioned that ...</td>\n",
              "      <td>positive</td>\n",
              "    </tr>\n",
              "    <tr>\n",
              "      <th>1</th>\n",
              "      <td>A wonderful little production. &lt;br /&gt;&lt;br /&gt;The...</td>\n",
              "      <td>positive</td>\n",
              "    </tr>\n",
              "    <tr>\n",
              "      <th>2</th>\n",
              "      <td>I thought this was a wonderful way to spend ti...</td>\n",
              "      <td>positive</td>\n",
              "    </tr>\n",
              "    <tr>\n",
              "      <th>3</th>\n",
              "      <td>Petter Mattei's \"Love in the Time of Money\" is...</td>\n",
              "      <td>positive</td>\n",
              "    </tr>\n",
              "    <tr>\n",
              "      <th>4</th>\n",
              "      <td>Probably my all-time favorite movie, a story o...</td>\n",
              "      <td>positive</td>\n",
              "    </tr>\n",
              "  </tbody>\n",
              "</table>\n",
              "</div>"
            ],
            "text/plain": [
              "                                              review sentiment\n",
              "0  One of the other reviewers has mentioned that ...  positive\n",
              "1  A wonderful little production. <br /><br />The...  positive\n",
              "2  I thought this was a wonderful way to spend ti...  positive\n",
              "3  Petter Mattei's \"Love in the Time of Money\" is...  positive\n",
              "4  Probably my all-time favorite movie, a story o...  positive"
            ]
          },
          "execution_count": 3,
          "metadata": {},
          "output_type": "execute_result"
        }
      ],
      "source": [
        "# Displaying first few rows\n",
        "df.head()"
      ]
    },
    {
      "cell_type": "markdown",
      "id": "1749da04",
      "metadata": {
        "id": "1749da04"
      },
      "source": [
        "## Count plot of the output categories: positive or negative\n",
        "\n",
        "Feel free to take a look at the output and whether the classes are balanced or imbalanced. "
      ]
    },
    {
      "cell_type": "code",
      "execution_count": null,
      "id": "c152e8a4",
      "metadata": {
        "colab": {
          "base_uri": "https://localhost:8080/",
          "height": 406
        },
        "id": "c152e8a4",
        "outputId": "c904a309-cd15-47d5-a839-6eae3d40cad5"
      },
      "outputs": [
        {
          "data": {
            "image/png": "[encoded data removed]",
            "text/plain": [
              "<Figure size 576x432 with 1 Axes>"
            ]
          },
          "metadata": {
            "needs_background": "light"
          },
          "output_type": "display_data"
        }
      ],
      "source": [
        "# Bar plot to examine for class imbalance in the data\n",
        "plt.figure(figsize = (8,6))\n",
        "sns.countplot(x=\"sentiment\", data=df)\n",
        "plt.title(\"Positive Vs. Negative reviews count\", fontsize = 15)\n",
        "plt.show()"
      ]
    },
    {
      "cell_type": "markdown",
      "id": "9b8549f2",
      "metadata": {
        "id": "9b8549f2"
      },
      "source": [
        "## Upsampling the minority class: (5 points)\n",
        "\n",
        "It is known that Naive bayes is not robust to class imbalance. It could be seen above that the data is little imbalanced. Therefore, class balancing can be done before giving it to the Naive Bayes model for prediction. \n",
        "\n",
        "Feel free to use 'resample' library from sklearn. "
      ]
    },
    {
      "cell_type": "code",
      "execution_count": null,
      "id": "yHJTAqrW7XMN",
      "metadata": {
        "id": "yHJTAqrW7XMN"
      },
      "outputs": [],
      "source": [
        "## hint: use resample from sklearn.utils\n",
        "from sklearn.utils import resample\n",
        "\n",
        "df_majority = df[df['sentiment'] == \"positive\"]\n",
        "df_minority = df[df['sentiment'] == \"negative\"]\n",
        "\n",
        "negative_upsample = resample(df_minority, replace = True, \n",
        "                        n_samples = df_majority.shape[0],\n",
        "                        random_state = 101)\n",
        "\n",
        "df_upsampled = pd.concat([df_majority, negative_upsample])  # concat two data frames i,e majority class data set and upsampled minority class data set\n",
        "df_upsampled = df_upsampled.sample(frac = 1)"
      ]
    },
    {
      "cell_type": "code",
      "execution_count": null,
      "id": "6a9329bb",
      "metadata": {
        "colab": {
          "base_uri": "https://localhost:8080/"
        },
        "id": "6a9329bb",
        "outputId": "a9e28d8b-6ede-4912-9323-98e7721ebd1d"
      },
      "outputs": [
        {
          "data": {
            "text/plain": [
              "(12474, 2)"
            ]
          },
          "execution_count": 6,
          "metadata": {},
          "output_type": "execute_result"
        }
      ],
      "source": [
        "## Just to ensure that upsampling was done successfully, take a look at the shape of the data in \n",
        "## this cell. \n",
        "\n",
        "# print the shape of data set with the help of shape function having \"negative\" as class label\n",
        "df_upsampled[df_upsampled['sentiment'] == \"negative\"].shape"
      ]
    },
    {
      "cell_type": "markdown",
      "id": "6f8bf6e7",
      "metadata": {
        "id": "6f8bf6e7"
      },
      "source": [
        "### Expected Output : \n",
        "(12474, 2)"
      ]
    },
    {
      "cell_type": "code",
      "execution_count": null,
      "id": "bdea8155",
      "metadata": {
        "colab": {
          "base_uri": "https://localhost:8080/"
        },
        "id": "bdea8155",
        "outputId": "cdfe81f9-e2df-4ce3-e643-7fe3b5494b20"
      },
      "outputs": [
        {
          "data": {
            "text/plain": [
              "(12474, 2)"
            ]
          },
          "execution_count": 7,
          "metadata": {},
          "output_type": "execute_result"
        }
      ],
      "source": [
        "## Ensure that the same number of data points are present for both 'positive' and 'negative' data\n",
        "\n",
        "# print the shape of data set with the help of shape function having \"positive\" as class label\n",
        "df_upsampled[df_upsampled['sentiment'] == \"positive\"].shape"
      ]
    },
    {
      "cell_type": "markdown",
      "id": "626f01d5",
      "metadata": {
        "id": "626f01d5"
      },
      "source": [
        "### Expected Output : \n",
        "(12474, 2)"
      ]
    },
    {
      "cell_type": "code",
      "execution_count": null,
      "id": "NoW5z6SzAeP8",
      "metadata": {
        "id": "NoW5z6SzAeP8"
      },
      "outputs": [],
      "source": [
        "## In this cell, we are going to be dividing the data into train and test points\n",
        "## Ensure that you store the upsampled data in a variable called 'df_upsampled' \n",
        "## so that the below operations are performed successfully\n",
        "\n",
        "\n",
        "## Considering 10000 positive and 10000 negative data points\n",
        "negative_data_points_train = df_upsampled[df_upsampled['sentiment'] == \"negative\"].iloc[:10000]\n",
        "positive_data_points_train = df_upsampled[df_upsampled['sentiment'] == \"positive\"].iloc[:10000]\n",
        "\n",
        "## Considering the remaining data points for test\n",
        "negative_data_points_test = df_upsampled[df_upsampled['sentiment'] == \"negative\"].iloc[10000:]\n",
        "positive_data_points_test = df_upsampled[df_upsampled['sentiment'] == \"positive\"].iloc[10000:]\n",
        "\n",
        "\n",
        "## Concatenate the training positive and negative reviews\n",
        "X_train = pd.concat([negative_data_points_train['review'], positive_data_points_train['review']])\n",
        "## Concatenating the training positive and negative outputs\n",
        "y_train = pd.concat([negative_data_points_train['sentiment'], positive_data_points_train['sentiment']])\n",
        "\n",
        "## Concatenating the test positive and negative reviews\n",
        "X_test = pd.concat([negative_data_points_test['review'], positive_data_points_test['review']])\n",
        "## Concatenating the test positive and negative outputs\n",
        "y_test = pd.concat([negative_data_points_test['sentiment'], positive_data_points_test['sentiment']])\n"
      ]
    },
    {
      "cell_type": "code",
      "execution_count": null,
      "id": "6428047d",
      "metadata": {
        "colab": {
          "base_uri": "https://localhost:8080/"
        },
        "id": "6428047d",
        "outputId": "1b24f6e4-1058-46ae-f87d-b9cec5af050e"
      },
      "outputs": [
        {
          "data": {
            "text/plain": [
              "negative    10000\n",
              "positive    10000\n",
              "Name: sentiment, dtype: int64"
            ]
          },
          "execution_count": 9,
          "metadata": {},
          "output_type": "execute_result"
        }
      ],
      "source": [
        "## Take a look at the total number of classes and their count using '.value_counts()' for y_train and y_test.\n",
        "## Ensure that there are equal number of positive and negative reviews. \n",
        "y_train.value_counts()"
      ]
    },
    {
      "cell_type": "markdown",
      "id": "7dfe6517",
      "metadata": {
        "id": "7dfe6517"
      },
      "source": [
        "### Expected Output:\n",
        "negative    10000<br>\n",
        "positive    10000<br>\n",
        "Name: sentiment, dtype: int64"
      ]
    },
    {
      "cell_type": "code",
      "execution_count": null,
      "id": "2beae1d6",
      "metadata": {
        "colab": {
          "base_uri": "https://localhost:8080/"
        },
        "id": "2beae1d6",
        "outputId": "34fff352-24f1-4e3c-8263-d1c4e4713690"
      },
      "outputs": [
        {
          "data": {
            "text/plain": [
              "negative    2474\n",
              "positive    2474\n",
              "Name: sentiment, dtype: int64"
            ]
          },
          "execution_count": 10,
          "metadata": {},
          "output_type": "execute_result"
        }
      ],
      "source": [
        "y_test.value_counts()"
      ]
    },
    {
      "cell_type": "markdown",
      "id": "9163f897",
      "metadata": {
        "id": "9163f897"
      },
      "source": [
        "### Expected Output : \n",
        "negative    2474<br>\n",
        "positive    2474<br>\n",
        "Name: sentiment, dtype: int64"
      ]
    },
    {
      "cell_type": "markdown",
      "id": "6501699b",
      "metadata": {
        "id": "6501699b"
      },
      "source": [
        "# Pre-process the reviews: (10 points)\n",
        "\n",
        "We know that a review contains links, punctuation, stopwords and many other words that don't give a lot of meaning for the Naive Bayes model for prediction. \n",
        "\n",
        "In the cell below, one must implement text-preprocessing and remove links, punctuations and stopwords. It is also important to lowercase the letters so that 'Admire' and 'admire' are not treated as different words. \n",
        "\n",
        "In addition to this, perform stemming operation so that similar words are reduced. To know more about stemming, feel free to take a look at this link.\n",
        "\n",
        "https://nlp.stanford.edu/IR-book/html/htmledition/stemming-and-lemmatization-1.html"
      ]
    },
    {
      "cell_type": "code",
      "execution_count": null,
      "id": "CirLN9-ddQ1r",
      "metadata": {
        "id": "CirLN9-ddQ1r"
      },
      "outputs": [],
      "source": [
        "# TASK CELL\n",
        "\n",
        "def clean_review(review):\n",
        " \n",
        "    '''\n",
        "    Input:\n",
        "        review: a string containing a review.\n",
        "    Output:\n",
        "        review_cleaned: a processed review. \n",
        "\n",
        "    '''\n",
        "    # Converting the reviews to lowercase\n",
        "    review_cleaned = review.lower()\n",
        "\n",
        "    # Removing HTML patterns like <br />\n",
        "    html_pattern = re.compile('<.*?>')\n",
        "    review_cleaned = html_pattern.sub(r'', review_cleaned) \n",
        "\n",
        "    # Removing url's if any in the code\n",
        "    url_pattern = re.compile(r'https?://\\S+|www\\.\\S+')\n",
        "    review_cleaned = url_pattern.sub(r'', review_cleaned)\n",
        "\n",
        "    # List of stop words\n",
        "    stop_words = set(stopwords.words('english')) \n",
        "\n",
        "    # Tokenizing the words while removing punctuations \n",
        "    tokenizer = RegexpTokenizer(r'\\w+')\n",
        "    tokenwords = tokenizer.tokenize(review_cleaned) \n",
        "    \n",
        "    # Removing stop words using the list created above\n",
        "    result = [] \n",
        "    for w in tokenwords: \n",
        "      if w not in stop_words: \n",
        "        result.append(w)\n",
        "    \n",
        "    # Lemmatizing the words\n",
        "    # Performing lemmatization instead of suggested stemming as lemmatization improved the accuracy of the model\n",
        "    lemmatizer = WordNetLemmatizer()\n",
        "    review_cleaned = [lemmatizer.lemmatize(w) for w in result]\n",
        "\n",
        "    # ps = PorterStemmer()\n",
        "    # review_cleaned = [ps.stem(w) for w in result]\n",
        "\n",
        "    # Joining the list of words back into a string\n",
        "    review_cleaned = \" \".join(review_cleaned)\n",
        "\n",
        "    return review_cleaned"
      ]
    },
    {
      "cell_type": "markdown",
      "id": "a7632fe5",
      "metadata": {
        "id": "a7632fe5"
      },
      "source": [
        "# Implement a find_occurrence function (5 points):\n",
        "\n",
        "In this function, we find the total occurrence of a word giving information such as label, word and frequency dictionary.\n",
        "\n",
        "Note that this function is used later in the code when we are going to be predicting the output using Naive Bayes. "
      ]
    },
    {
      "cell_type": "code",
      "execution_count": null,
      "id": "eb282b81",
      "metadata": {
        "id": "eb282b81"
      },
      "outputs": [],
      "source": [
        "# TASK CELL\n",
        "def find_occurrence(frequency, word, label):\n",
        "    '''\n",
        "    Params:\n",
        "        frequency: a dictionary with the frequency of each pair (or tuple)\n",
        "        word: the word to look up\n",
        "        label: the label corresponding to the word\n",
        "    Return:\n",
        "        n: the number of times the word with its corresponding label appears.\n",
        "    '''\n",
        "    for y, word in zip(label, word):\n",
        "       pair = (word, y)\n",
        "       \n",
        "       # if the key exists in the dictionary, increment the count\n",
        "       \n",
        "       if pair in frequency:\n",
        "         frequency[pair] += 1\n",
        "         \n",
        "       # else, if the key is new, add it to the dictionary and set the count to 1\n",
        "       else:\n",
        "         frequency[pair] = 1\n",
        "\n",
        "    \n",
        "    n = frequency.values()\n",
        "    return n"
      ]
    },
    {
      "cell_type": "markdown",
      "id": "29a2249d",
      "metadata": {
        "id": "29a2249d"
      },
      "source": [
        "### Converting output to numerical format:\n",
        "\n",
        "We have outputs as 'positive' or 'negative'. In the cell below, we convert it to a numerical format. "
      ]
    },
    {
      "cell_type": "code",
      "execution_count": null,
      "id": "bcdc2b2c",
      "metadata": {
        "id": "bcdc2b2c"
      },
      "outputs": [],
      "source": [
        "## With the use of mapping function, we replace\n",
        "## the label in the form of string to an integer. \n",
        "\n",
        "output_map = {'positive': 0, 'negative': 1}\n",
        "y_train = y_train.map(output_map)\n",
        "y_test = y_test.map(output_map)"
      ]
    },
    {
      "cell_type": "code",
      "execution_count": null,
      "id": "3dde0bbd",
      "metadata": {
        "colab": {
          "base_uri": "https://localhost:8080/"
        },
        "id": "3dde0bbd",
        "outputId": "6d337dff-47e8-4b85-d36f-3a04034d3625"
      },
      "outputs": [
        {
          "data": {
            "text/plain": [
              "1    10000\n",
              "0    10000\n",
              "Name: sentiment, dtype: int64"
            ]
          },
          "execution_count": 14,
          "metadata": {},
          "output_type": "execute_result"
        }
      ],
      "source": [
        "## Ensuring that there are equal number of classes on the training data. \n",
        "y_train.value_counts()"
      ]
    },
    {
      "cell_type": "code",
      "execution_count": null,
      "id": "f2959b85",
      "metadata": {
        "colab": {
          "base_uri": "https://localhost:8080/",
          "height": 174
        },
        "id": "f2959b85",
        "outputId": "45e72932-9f87-4976-85c1-38fbf0a9a6ee"
      },
      "outputs": [
        {
          "data": {
            "text/plain": [
              "'It was only a matter of time that a spoof would be made of sports movies! And there are plenty of movies to be spotted which are made fun off. But the biggest problem I had was the fact that it stays with recognizing movies. The director and writers of \"The Comebacks\" somehow forget to get creative. While I must admit that I laughed at certain scenes,\"The Comebacks\" could have been so much funnier. The actors forget to deliver their lines seriously and have a straight face throughout the movie. A spoof demands this and that is the main reason why silly jokes work in movies like this. Because of the failure of the cast to do so the jokes never hit their mark. Some scenes take forever and normally in spoofs that doesn\\'t have to be a problem. Take \"Naked Gun\" for instance. Their is always something happening on screen. In \"The Comebacks\" they didn\\'t even bother to let stuff happening in the background. Only a couple of factors make this movie worth watching! It still is fun to spot the movies that are made fun off. And Jermaine Williams as Ipod. His parody on Cuba Gooding Jr. as Radio was hilarious! He seemed to be the only one in the cast to get the idea of what a spoof is about. Not entirely bad!'"
            ]
          },
          "execution_count": 15,
          "metadata": {},
          "output_type": "execute_result"
        }
      ],
      "source": [
        "## Choosing a random review and taking a look at it.\n",
        "X_train.iloc[0]"
      ]
    },
    {
      "cell_type": "markdown",
      "id": "ed5e43c9",
      "metadata": {
        "id": "ed5e43c9"
      },
      "source": [
        "From the above cell output, it could be seen that there are a lot of words that don't add a lot of meaning to the text. \n",
        "\n",
        "Therefore, those words would be removed. It also reduces the computation time. \n",
        "\n",
        "Therefore, it is a good practice we are following."
      ]
    },
    {
      "cell_type": "code",
      "execution_count": null,
      "id": "ad3937ea",
      "metadata": {
        "colab": {
          "base_uri": "https://localhost:8080/"
        },
        "id": "ad3937ea",
        "outputId": "11a45279-89c6-4a13-8e61-5bf5403763e3"
      },
      "outputs": [
        {
          "name": "stdout",
          "output_type": "stream",
          "text": [
            "matter time spoof would made sport movie plenty movie spotted made fun biggest problem fact stay recognizing movie director writer comeback somehow forget get creative must admit laughed certain scene comeback could much funnier actor forget deliver line seriously straight face throughout movie spoof demand main reason silly joke work movie like failure cast joke never hit mark scene take forever normally spoof problem take naked gun instance always something happening screen comeback even bother let stuff happening background couple factor make movie worth watching still fun spot movie made fun jermaine williams ipod parody cuba gooding jr radio hilarious seemed one cast get idea spoof entirely bad\n"
          ]
        }
      ],
      "source": [
        "custom_review = X_train.iloc[0]\n",
        "\n",
        "# print cleaned review\n",
        "print(clean_review(custom_review))"
      ]
    },
    {
      "cell_type": "markdown",
      "id": "3e6cc440",
      "metadata": {
        "id": "3e6cc440"
      },
      "source": [
        "We now use this function to pre-process the review and remove words that don't add a lot of meaning in our model. "
      ]
    },
    {
      "cell_type": "markdown",
      "id": "5a762960",
      "metadata": {
        "id": "5a762960"
      },
      "source": [
        "# Implementing review counter function: (5 points)\n",
        "\n",
        "It is now time to implement the count function for the reviews. \n",
        "\n",
        "In this function, we count the occurrence of words and get the probabilities \n",
        "for the words based on the training data. \n",
        "\n",
        "In other words, we get the probability of occurrence of a word, given that the output is 'positive'.\n",
        "\n",
        "Similarly, we also compute the probability of occurence of a word, given that the output is 'negative'.\n",
        "\n"
      ]
    },
    {
      "cell_type": "code",
      "execution_count": null,
      "id": "5de61f77",
      "metadata": {
        "id": "5de61f77"
      },
      "outputs": [],
      "source": [
        "# TASK CELL\n",
        "def review_counter(output_occurrence, reviews, positive_or_negative):\n",
        "    '''\n",
        "    Params:\n",
        "        output_occurrence: a dictionary that will be used to map each pair to its frequency\n",
        "        reviews: a list of reviews\n",
        "        positive_or_negative: a list corresponding to the sentiment of each review (either 0 or 1)\n",
        "    Return:\n",
        "        output: a dictionary mapping each pair to its frequency\n",
        "    '''\n",
        "    ## Steps :\n",
        "    # define the key, which is the word and label tuple\n",
        "    # if the key exists in the dictionary, increment the count\n",
        "    # else, if the key is new, add it to the dictionary and set the count to 1\n",
        "    \n",
        "    for label, review in zip(positive_or_negative, reviews):\n",
        "      split_review = clean_review(review).split()\n",
        "      for word in split_review:\n",
        "        \n",
        "        pair = (word, label)\n",
        "        # if the key exists in the dictionary, increment the count\n",
        "        \n",
        "        if pair in output_occurrence:\n",
        "          output_occurrence[pair] += 1\n",
        "         \n",
        "        # else, if the key is new, add it to the dictionary and set the count to 1\n",
        "        \n",
        "        else:\n",
        "         output_occurrence[pair] = 1\n",
        "   \n",
        "    return output_occurrence\n",
        "   \n"
      ]
    },
    {
      "cell_type": "markdown",
      "id": "18238223",
      "metadata": {
        "id": "18238223"
      },
      "source": [
        "### Test your function with example reviews:\n",
        "\n",
        "Feel free to run the cell below and understand whether the above function that you have defined is producing the optimum results. "
      ]
    },
    {
      "cell_type": "code",
      "execution_count": null,
      "id": "07a4c58a",
      "metadata": {
        "colab": {
          "base_uri": "https://localhost:8080/"
        },
        "id": "07a4c58a",
        "outputId": "2d57b8fa-c74b-460f-9e29-e6cac20074ce"
      },
      "outputs": [
        {
          "data": {
            "text/plain": [
              "{('got', 1): 1,\n",
              " ('bored', 1): 2,\n",
              " ('throught', 1): 1,\n",
              " ('moview', 1): 1,\n",
              " ('movie', 0): 2,\n",
              " ('fantastic', 0): 1,\n",
              " ('watch', 1): 1,\n",
              " ('complete', 1): 1,\n",
              " ('waste', 1): 1,\n",
              " ('time', 1): 1,\n",
              " ('money', 1): 1,\n",
              " ('enjoyed', 0): 1,\n",
              " ('fullest', 0): 1}"
            ]
          },
          "execution_count": 18,
          "metadata": {},
          "output_type": "execute_result"
        }
      ],
      "source": [
        "# Testing your function\n",
        "\n",
        "result = {}\n",
        "reviews = ['got bored throught the moview', 'The movie was fantastic', 'Will not watch it again', \n",
        "           'Was bored, it was a complete waste of time and money', 'Enjoyed the movie to the fullest']\n",
        "ys = [1, 0, 1, 1, 0]\n",
        "review_counter(result,reviews, ys)"
      ]
    },
    {
      "cell_type": "markdown",
      "id": "927f89bb",
      "metadata": {
        "id": "927f89bb"
      },
      "source": [
        "### Expected Output:\n",
        " {('bored', 1): 2, <br>\n",
        " ('complete', 1): 1, <br>\n",
        " ('enjoyed', 0): 1, <br>\n",
        " ('fantastic', 0): 1, <br>\n",
        " ('fullest', 0): 1, <br>\n",
        " ('got', 1): 1, <br>\n",
        " ('money', 1): 1, <br>\n",
        " ('movie', 0): 2, <br>\n",
        " ('moview', 1): 1, <br>\n",
        " ('throught', 1): 1, <br>\n",
        " ('time', 1): 1, <br>\n",
        " ('waste', 1): 1, <br>\n",
        " ('watch', 1): 1}"
      ]
    },
    {
      "cell_type": "code",
      "execution_count": null,
      "id": "9bc62e13",
      "metadata": {
        "id": "9bc62e13"
      },
      "outputs": [],
      "source": [
        "# Build the freqs dictionary for later uses\n",
        "\n",
        "freqs = review_counter({}, X_train, y_train)"
      ]
    },
    {
      "cell_type": "code",
      "execution_count": null,
      "id": "0eddf420",
      "metadata": {
        "colab": {
          "base_uri": "https://localhost:8080/"
        },
        "id": "0eddf420",
        "outputId": "9eabb747-2810-4e75-e63b-6be7a384b439"
      },
      "outputs": [
        {
          "data": {
            "text/plain": [
              "[(('matter', 1), 564),\n",
              " (('time', 1), 6047),\n",
              " (('spoof', 1), 145),\n",
              " (('would', 1), 5891),\n",
              " (('made', 1), 3484)]"
            ]
          },
          "execution_count": 20,
          "metadata": {},
          "output_type": "execute_result"
        }
      ],
      "source": [
        "## Run this cell to get an idea about the corpus of words and their occurrence along with labels. \n",
        "## In this, we are computing the frequency of occurrence of word given that a review is 'positive'.\n",
        "## Similarly, we also compute the frequence of occurence of word given that a review is 'negative'.\n",
        "# Displaying the first few entries in the frqs dictionary\n",
        "list(freqs.items())[:5]"
      ]
    },
    {
      "cell_type": "markdown",
      "id": "759c24bc",
      "metadata": {
        "id": "759c24bc"
      },
      "source": [
        "# Training the Naive Bayes Model: (20 points)\n",
        "\n",
        "Now we are in the training phase of the Naive Bayes algorithm. In this cell, take a look at the ways to calculate the log likelihood and log prior values as these are important for testing in the next few cells. \n",
        "\n",
        "Also calculate the frequency of occurrence of words where the output is negative. In the same way, calculate the word frequency count using the above functions in order to compute the log likelihood.\n",
        "\n",
        "Return the logprior and loglikelihood output by the model from this function. "
      ]
    },
    {
      "cell_type": "code",
      "execution_count": null,
      "id": "a7f280e3",
      "metadata": {
        "id": "a7f280e3"
      },
      "outputs": [],
      "source": [
        "def train_naive_bayes(freqs, train_x, train_y):\n",
        "    '''\n",
        "    Input:\n",
        "        freqs: dictionary from (word, label) to how often the word appears\n",
        "        train_x: a list of reviews\n",
        "        train_y: a list of labels correponding to the reviews (0,1)\n",
        "    Output:\n",
        "        logprior: the log prior. (equation 3 above)\n",
        "        loglikelihood: the log likelihood of you Naive bayes equation. (equation 6 above)\n",
        "    '''\n",
        "    loglikelihood = {}\n",
        "    logprior = 0\n",
        "\n",
        "\n",
        "    # calculate V, the number of unique words in the vocabulary\n",
        "    vocab = [pair[0] for pair in freqs.keys()]\n",
        "    V = len(vocab)\n",
        "\n",
        "    # calculate num_pos and num_neg - the total number of positive and negative words for all documents\n",
        "    num_pos = num_neg = 0\n",
        "    for pair in freqs.keys():\n",
        "        # if the label is 0\n",
        "        if pair[1] == 0:\n",
        "\n",
        "            # Increment the number of positive words by the count for this (word, label) pair\n",
        "            num_pos += freqs[pair]\n",
        "\n",
        "        # else, the label is negative\n",
        "        else:\n",
        "\n",
        "            # increment the number of negative words by the count for this (word,label) pair\n",
        "            num_neg += freqs[pair]\n",
        "\n",
        "    # Calculate num_doc, the number of documents\n",
        "    num_doc = len(train_x)\n",
        "\n",
        "    # Calculate D_pos, the number of positive documents \n",
        "    neg_num_docs = train_y[train_y == 1].count()\n",
        "\n",
        "    # Calculate D_neg, the number of negative documents \n",
        "    pos_num_docs = train_y[train_y == 0].count()\n",
        "\n",
        "    # Calculate logprior\n",
        "    logprior = np.log(neg_num_docs) - np.log(pos_num_docs)\n",
        "\n",
        "\n",
        "    # For each word in the vocabulary...\n",
        "    for word in vocab:\n",
        "        # get the positive and negative frequency of the word\n",
        "        freq_pos = freqs.get((word, 0), 0)\n",
        "        freq_neg = freqs.get((word, 1), 0)\n",
        "\n",
        "        # calculate the probability that each word is positive, and negative\n",
        "        p_w_pos = (freq_pos + 1)/(num_pos + V)\n",
        "        p_w_neg = (freq_neg + 1)/(num_neg + V)\n",
        "\n",
        "        # calculate the log likelihood of the word\n",
        "        loglikelihood[word] = np.log(p_w_neg)-np.log(p_w_pos)\n",
        "\n",
        "\n",
        "    return logprior, loglikelihood\n",
        "\n"
      ]
    },
    {
      "cell_type": "code",
      "execution_count": null,
      "id": "1561d892",
      "metadata": {
        "colab": {
          "base_uri": "https://localhost:8080/"
        },
        "id": "1561d892",
        "outputId": "48f3fa39-0161-433c-97ff-3b2dc9f91a72"
      },
      "outputs": [
        {
          "name": "stdout",
          "output_type": "stream",
          "text": [
            "0.0\n",
            "59766\n"
          ]
        }
      ],
      "source": [
        "# You do not have to input any code in this cell, but it is relevant to grading, so please do not change anything\n",
        "logprior, loglikelihood = train_naive_bayes(freqs, X_train, y_train)\n",
        "print(logprior)\n",
        "print(len(loglikelihood))"
      ]
    },
    {
      "cell_type": "markdown",
      "id": "19d9c882",
      "metadata": {
        "id": "19d9c882"
      },
      "source": [
        "### Expected Output \n",
        "\n",
        "0.0 <br>\n",
        "91425"
      ]
    },
    {
      "cell_type": "markdown",
      "id": "78b51303",
      "metadata": {
        "id": "78b51303"
      },
      "source": [
        "# Implementing Naive Bayes Predict Function: (10 points)\n",
        "\n",
        "It is now time to make our prediction as to whether a given review is negative or positive respectively. \n",
        "\n",
        "After adding the log likelihood values, ensure that the output is 1 (negative) if the sum of the log likelihood value is greater than 0 and 0 (positive) if the sum of the log likelihood is less than or equal to 0. "
      ]
    },
    {
      "cell_type": "code",
      "execution_count": null,
      "id": "b692c2f9",
      "metadata": {
        "id": "b692c2f9"
      },
      "outputs": [],
      "source": [
        "# TASK 4 CELL\n",
        "def naive_bayes_predict(review, logprior, loglikelihood):\n",
        "    '''\n",
        "    Params:\n",
        "        review: a string\n",
        "        logprior: a number\n",
        "        loglikelihood: a dictionary of words mapping to numbers\n",
        "    Return:\n",
        "        total_prob: the sum of all the loglikelihoods of each word in the review (if found in the dictionary) + logprior (a number)\n",
        "\n",
        "    '''\n",
        "    \n",
        "      # process the review to get a list of words\n",
        "    word_l = clean_review(review).split()\n",
        "\n",
        "    # initialize probability to zero\n",
        "    total_prob = 0\n",
        "\n",
        "    # add the logprior\n",
        "    total_prob += logprior\n",
        "    for word in word_l:\n",
        "        # check if the word exists in the loglikelihood dictionary\n",
        "        if word in loglikelihood:\n",
        "            # add the log likelihood of that word to the probability\n",
        "            total_prob += loglikelihood[word]\n",
        "\n",
        "    if total_prob > 0:\n",
        "      p = 1\n",
        "    else: \n",
        "      p = 0\n",
        "\n",
        "    # Changed the function to return both probability and class valued\n",
        "    return total_prob, p"
      ]
    },
    {
      "cell_type": "code",
      "execution_count": null,
      "id": "4b170333",
      "metadata": {
        "colab": {
          "base_uri": "https://localhost:8080/"
        },
        "id": "4b170333",
        "outputId": "0bdf2922-1898-4a21-9e65-3be8314d613f"
      },
      "outputs": [
        {
          "name": "stdout",
          "output_type": "stream",
          "text": [
            "The expected output is 1\n"
          ]
        }
      ],
      "source": [
        "# You do not have to input any code in this cell, but it is relevant to grading, so please do not change anything\n",
        "\n",
        "# Experiment with your own review.\n",
        "my_review = \"I thought this series was going to be another fun, action series with some dynamic plots and great performances. I was wrong. While I like Jamie Denton, this show is hardly worth watching at all, unless you enjoy watching some people brutalized and the actions of the agents supposedly warranted under the theme of national security. The show is great propaganda for the current government, and spews out jingoism as though we talk that way every day. After a couple of episodes, it was boring the hell out of me, and I started watching reruns of House Invaders on BBCAmerica instead. Rather watch CSI and Without a Trace, without a doubt.\"\n",
        "total_prob, p = naive_bayes_predict(my_review, logprior, loglikelihood)\n",
        "print('The expected output is', p)"
      ]
    },
    {
      "cell_type": "markdown",
      "id": "6242708f",
      "metadata": {
        "id": "6242708f"
      },
      "source": [
        "### Expected Output :\n",
        "The expected output is 1"
      ]
    },
    {
      "cell_type": "markdown",
      "id": "7c4eeb71",
      "metadata": {
        "id": "7c4eeb71"
      },
      "source": [
        "# Implementing Naive Bayes Test function: (10 points)\n",
        "\n",
        "In this function, implement the previous functions such as naive_bayes_predict to get the predictions for the test set. \n",
        "\n",
        "In addition to this, the function should return the total number of reviews that it correctly classified as 'positive' or 'negative'. "
      ]
    },
    {
      "cell_type": "code",
      "execution_count": null,
      "id": "66a511e7",
      "metadata": {
        "id": "66a511e7"
      },
      "outputs": [],
      "source": [
        "# UNQ_C6 (UNIQUE CELL IDENTIFIER, DO NOT EDIT)\n",
        "def test_naive_bayes(test_x, test_y, logprior, loglikelihood):\n",
        "    \"\"\"\n",
        "    Input:\n",
        "        test_x: A list of reviews\n",
        "        test_y: the corresponding labels for the list of reviews\n",
        "        logprior: the logprior\n",
        "        loglikelihood: a dictionary with the loglikelihoods for each word\n",
        "    Output:\n",
        "        accuracy: (# of reviews classified correctly)/(total # of reviews)\n",
        "    \"\"\"\n",
        "    accuracy = 0  \n",
        "\n",
        "    \n",
        "    y_hats = []\n",
        "    for review in test_x:\n",
        "        # if the prediction is > 0\n",
        "        if naive_bayes_predict(review, logprior, loglikelihood)[0] > 0:\n",
        "            # the predicted class is 1\n",
        "            y_hat_i = 1\n",
        "        else:\n",
        "            # otherwise the predicted class is 0\n",
        "            y_hat_i = 0\n",
        "\n",
        "        # append the predicted class to the list y_hats\n",
        "        y_hats.append(y_hat_i)\n",
        "\n",
        "    # error is the average of the absolute values of the differences between y_hats and test_y\n",
        "    error = np.mean(np.abs(y_hats-test_y))\n",
        "\n",
        "    accuracy = 1-error\n",
        "\n",
        "\n",
        "    return accuracy, y_hats\n",
        "\n",
        "    "
      ]
    },
    {
      "cell_type": "code",
      "execution_count": null,
      "id": "8a9c5d9d",
      "metadata": {
        "colab": {
          "base_uri": "https://localhost:8080/"
        },
        "id": "8a9c5d9d",
        "outputId": "87d181c9-cc9f-4acb-c681-e08d3ae61ce0"
      },
      "outputs": [
        {
          "name": "stdout",
          "output_type": "stream",
          "text": [
            "If you like original gut wrenching laughter you will like this movie. If you are young or old then y -> 0.00\n",
            "What a waste of talent. A very poor, semi-coherent, script cripples this film. Rather unimaginative  -> 1.00\n",
            "I have seen this film at least 100 times and I am still excited by it, the acting is perfect and the -> 0.00\n",
            "Cheap, amateurish, unimaginative, exploitative... but don't think it'll have redeeming amusement val -> 1.00\n"
          ]
        }
      ],
      "source": [
        "# For grading purpose only\n",
        "# You do not have to input any code in this cell, but it is relevant to grading, so please do not change anything\n",
        "\n",
        "# Run this cell to test your function\n",
        "\n",
        "for review in [\"If you like original gut wrenching laughter you will like this movie. If you are young or old then you will love this movie, hell even my mom liked it.<br /><br />Great Camp!!!\",\n",
        "                \"What a waste of talent. A very poor, semi-coherent, script cripples this film. Rather unimaginative direction, too. Some VERY faint echoes of Fargo here, but it just doesn't come off.\",\n",
        "                \"I have seen this film at least 100 times and I am still excited by it, the acting is perfect and the romance between Joe and Jean keeps me on the edge of my seat, plus I still think Bryan Brown is the tops. Brilliant Film.\",\n",
        "                \"Cheap, amateurish, unimaginative, exploitative... but don't think it'll have redeeming amusement value. About as unentertaining, uninstructive and just plain dull as a film can be.\"]:\n",
        "    total_prob, p = naive_bayes_predict(review, logprior, loglikelihood)\n",
        "    print(f'{review[:100]} -> {p:.2f}')\n",
        "    "
      ]
    },
    {
      "cell_type": "markdown",
      "id": "43e2ef98",
      "metadata": {
        "id": "43e2ef98"
      },
      "source": [
        "### Expected Output :\n",
        "\n",
        "If you like original gut wrenching laughter you will like this movie. If you are young or old then y -> 0.00 <br>\n",
        "What a waste of talent. A very poor, semi-coherent, script cripples this film. Rather unimaginative  -> 1.00<br>\n",
        "I have seen this film at least 100 times and I am still excited by it, the acting is perfect and the -> 0.00 <br>\n",
        "Cheap, amateurish, unimaginative, exploitative... but don't think it'll have redeeming amusement val -> 1.00\n",
        "\n"
      ]
    },
    {
      "cell_type": "code",
      "execution_count": null,
      "id": "216fa97a",
      "metadata": {
        "colab": {
          "base_uri": "https://localhost:8080/"
        },
        "id": "216fa97a",
        "outputId": "52a846e3-a090-4571-be71-dcf5ad1cc256"
      },
      "outputs": [
        {
          "data": {
            "text/plain": [
              "1"
            ]
          },
          "execution_count": 27,
          "metadata": {},
          "output_type": "execute_result"
        }
      ],
      "source": [
        "# Feel free to check the sentiment of your own review below\n",
        "my_review = 'The moview was very boring, I wanted to leave in the middle'\n",
        "naive_bayes_predict(my_review, logprior, loglikelihood)[1]"
      ]
    },
    {
      "cell_type": "markdown",
      "id": "8a45e4f0",
      "metadata": {
        "id": "8a45e4f0"
      },
      "source": [
        "### Expected Output :\n",
        "1"
      ]
    },
    {
      "cell_type": "markdown",
      "id": "mAIkM4aCC1H7",
      "metadata": {
        "id": "mAIkM4aCC1H7"
      },
      "source": [
        "# Evaluate the accuracy (10 Points)\n",
        "1. Split your data into training and test sets using random selection. Set the seed as parameter of the function so that user can select a different training and test set by changin seed.\n",
        "\n",
        "2. Calculate model paramters with training set.\n",
        "\n",
        "3. Print confusion matrix for training and test set.\n",
        "\n",
        "4. Examine False Positive and False Negative cases and provide reasoning why they get misclassified."
      ]
    },
    {
      "cell_type": "code",
      "execution_count": null,
      "id": "NeZpM2T_di7o",
      "metadata": {
        "id": "NeZpM2T_di7o"
      },
      "outputs": [],
      "source": [
        "# Splitting the upsampled dataframe into train and test using the train_test_split\n",
        "# The data is split into 20% test and 80% train randomly\n",
        "# The random_state seed can be varied to select a different train and test dataset\n",
        "X_train, X_test, y_train, y_test = train_test_split(df_upsampled['review'], df_upsampled['sentiment'],\n",
        "                                                    test_size=0.2, random_state=42)"
      ]
    },
    {
      "cell_type": "code",
      "execution_count": null,
      "id": "2GWiL0AtduBB",
      "metadata": {
        "id": "2GWiL0AtduBB"
      },
      "outputs": [],
      "source": [
        "# Mapping 'positive' sentiment to 0 and and 'negative' sentiment to 1\n",
        "output_map = {'positive': 0, 'negative': 1}\n",
        "y_train = y_train.map(output_map)\n",
        "y_test = y_test.map(output_map)"
      ]
    },
    {
      "cell_type": "code",
      "execution_count": null,
      "id": "yt4_i603eGe-",
      "metadata": {
        "id": "yt4_i603eGe-"
      },
      "outputs": [],
      "source": [
        "# Calling the review counter function to get the frequency of the words when the label is positive and negative\n",
        "freqs = review_counter({}, X_train, y_train)"
      ]
    },
    {
      "cell_type": "code",
      "execution_count": null,
      "id": "7yH42SYWeRyy",
      "metadata": {
        "colab": {
          "base_uri": "https://localhost:8080/"
        },
        "id": "7yH42SYWeRyy",
        "outputId": "597a1072-e963-4ad2-9bb3-07d36f9adc1e"
      },
      "outputs": [
        {
          "name": "stdout",
          "output_type": "stream",
          "text": [
            "0.008818576038949644\n",
            "59519\n"
          ]
        }
      ],
      "source": [
        "# Calculating the model paramteres - log prior and log likelihood \n",
        "logprior, loglikelihood = train_naive_bayes(freqs, X_train, y_train)\n",
        "print(logprior)\n",
        "print(len(loglikelihood))"
      ]
    },
    {
      "cell_type": "code",
      "execution_count": null,
      "id": "C_t3Lx7kfsYA",
      "metadata": {
        "colab": {
          "base_uri": "https://localhost:8080/"
        },
        "id": "C_t3Lx7kfsYA",
        "outputId": "0819b0a2-0b7e-490d-e31c-7bf7a5da3f8a"
      },
      "outputs": [
        {
          "name": "stdout",
          "output_type": "stream",
          "text": [
            "Train Accuracy is  93.05 %\n"
          ]
        }
      ],
      "source": [
        "# Calculating the accuracy of the model on train data\n",
        "accuracy, predicted = test_naive_bayes(X_train, y_train, logprior, loglikelihood)\n",
        "print('Train Accuracy is ',round((accuracy*100), 2),'%')"
      ]
    },
    {
      "cell_type": "code",
      "execution_count": null,
      "id": "pw94SwflecxK",
      "metadata": {
        "colab": {
          "base_uri": "https://localhost:8080/"
        },
        "id": "pw94SwflecxK",
        "outputId": "eb0b8fc2-facc-4172-c8e3-28f075daca86"
      },
      "outputs": [
        {
          "name": "stdout",
          "output_type": "stream",
          "text": [
            "Test Accuracy is  88.28 %\n"
          ]
        }
      ],
      "source": [
        "# Calculating the accuracy of the model on test data\n",
        "# We can see that we are getting a good accuracy of ~88%\n",
        "accuracy_test, predicted_test = test_naive_bayes(X_test, y_test, logprior, loglikelihood)\n",
        "print('Test Accuracy is ',round((accuracy_test*100), 2),'%')"
      ]
    },
    {
      "cell_type": "code",
      "execution_count": null,
      "id": "TB9rkeu_4OIP",
      "metadata": {
        "colab": {
          "base_uri": "https://localhost:8080/",
          "height": 501
        },
        "id": "TB9rkeu_4OIP",
        "outputId": "1e0a573f-b217-4944-9ec0-c73e173e315b"
      },
      "outputs": [
        {
          "data": {
            "image/png": "[encoded data removed]",
            "text/plain": [
              "<Figure size 540x540 with 1 Axes>"
            ]
          },
          "metadata": {
            "needs_background": "light"
          },
          "output_type": "display_data"
        }
      ],
      "source": [
        "# Confusion matrix for train data\n",
        "conf_matrix = confusion_matrix(y_train, predicted)\n",
        "fig, ax = plt.subplots(figsize=(7.5, 7.5))\n",
        "ax.matshow(conf_matrix, cmap=plt.cm.Blues, alpha=0.3)\n",
        "for i in range(conf_matrix.shape[0]):\n",
        "    for j in range(conf_matrix.shape[1]):\n",
        "        ax.text(x=j, y=i,s=conf_matrix[i, j], va='center', ha='center', size='xx-large')\n",
        " \n",
        "plt.xlabel('Predictions', fontsize=18)\n",
        "plt.ylabel('Actuals', fontsize=18)\n",
        "plt.title('Confusion Matrix', fontsize=18)\n",
        "plt.show()"
      ]
    },
    {
      "cell_type": "markdown",
      "id": "4c8BQGwwwCMv",
      "metadata": {
        "id": "4c8BQGwwwCMv"
      },
      "source": [
        "We can observe that cases where the actual sentiment is positive but the predicted is negative, occurs more than the vice versa in train data. That is we can see more false negative than false positive cases. "
      ]
    },
    {
      "cell_type": "code",
      "execution_count": null,
      "id": "IuYEWZ9u5rm1",
      "metadata": {
        "colab": {
          "base_uri": "https://localhost:8080/",
          "height": 501
        },
        "id": "IuYEWZ9u5rm1",
        "outputId": "d344b1e6-84d9-4bec-d393-94ad1b28801c"
      },
      "outputs": [
        {
          "data": {
            "image/png": "[encoded data removed]",
            "text/plain": [
              "<Figure size 540x540 with 1 Axes>"
            ]
          },
          "metadata": {
            "needs_background": "light"
          },
          "output_type": "display_data"
        }
      ],
      "source": [
        "# Confusion matrix for test data\n",
        "conf_matrix_1 = confusion_matrix(y_test, predicted_test)\n",
        "fig, ax = plt.subplots(figsize=(7.5, 7.5))\n",
        "ax.matshow(conf_matrix_1, cmap=plt.cm.Blues, alpha=0.3)\n",
        "for i in range(conf_matrix_1.shape[0]):\n",
        "    for j in range(conf_matrix_1.shape[1]):\n",
        "        ax.text(x=j, y=i,s=conf_matrix_1[i, j], va='center', ha='center', size='xx-large')\n",
        " \n",
        "plt.xlabel('Predictions', fontsize=18)\n",
        "plt.ylabel('Actuals', fontsize=18)\n",
        "plt.title('Confusion Matrix', fontsize=18)\n",
        "plt.show()"
      ]
    },
    {
      "cell_type": "markdown",
      "id": "Y-zoUIyjx52E",
      "metadata": {
        "id": "Y-zoUIyjx52E"
      },
      "source": [
        "Similar to the train data we can observe that test data also has slightly more false negative cases than false positive cases. "
      ]
    },
    {
      "cell_type": "code",
      "execution_count": null,
      "id": "e-oBtuQ_yR28",
      "metadata": {
        "id": "e-oBtuQ_yR28"
      },
      "outputs": [],
      "source": [
        "pd.options.display.max_colwidth = 10000"
      ]
    },
    {
      "cell_type": "code",
      "execution_count": null,
      "id": "xHvhZSvw6jW5",
      "metadata": {
        "colab": {
          "base_uri": "https://localhost:8080/",
          "height": 260
        },
        "id": "xHvhZSvw6jW5",
        "outputId": "29ef39f5-8331-4688-b33c-a8f44a83b2f2"
      },
      "outputs": [
        {
          "data": {
            "text/html": [
              "<div>\n",
              "<style scoped>\n",
              "    .dataframe tbody tr th:only-of-type {\n",
              "        vertical-align: middle;\n",
              "    }\n",
              "\n",
              "    .dataframe tbody tr th {\n",
              "        vertical-align: top;\n",
              "    }\n",
              "\n",
              "    .dataframe thead th {\n",
              "        text-align: right;\n",
              "    }\n",
              "</style>\n",
              "<table border=\"1\" class=\"dataframe\">\n",
              "  <thead>\n",
              "    <tr style=\"text-align: right;\">\n",
              "      <th></th>\n",
              "      <th>test_reviews</th>\n",
              "      <th>actual_sentiment</th>\n",
              "      <th>predicted_sentiment</th>\n",
              "    </tr>\n",
              "  </thead>\n",
              "  <tbody>\n",
              "    <tr>\n",
              "      <th>11188</th>\n",
              "      <td>I must say one big reason why I thought the AristoCats was so great is because I love cats!!!!I love cats,which probably gave this film a big score from me,but not only that,it was definitely a good movie as well,and I love where they make the setting of the film take place.This is one of my favorite animal films,although it's animated,and I really love how the actors\\actresses didn't sound so unprofessional behind the animals' voice's.To me this film seems like a classic,but I guess to IMDb it's not,because it has,yes I THINK too low of a rating.You take a peek at all the other \"ORIGINAL\" Disney films and they have a much higher rating than this,but nonetheless AristoCats is one of the best animation movies there is and I could enjoy it over and over again!!</td>\n",
              "      <td>0</td>\n",
              "      <td>0</td>\n",
              "    </tr>\n",
              "  </tbody>\n",
              "</table>\n",
              "</div>"
            ],
            "text/plain": [
              "                                                                                                                                                                                                                                                                                                                                                                                                                                                                                                                                                                                                                                                                                                                                                                                            test_reviews  \\\n",
              "11188  I must say one big reason why I thought the AristoCats was so great is because I love cats!!!!I love cats,which probably gave this film a big score from me,but not only that,it was definitely a good movie as well,and I love where they make the setting of the film take place.This is one of my favorite animal films,although it's animated,and I really love how the actors\\actresses didn't sound so unprofessional behind the animals' voice's.To me this film seems like a classic,but I guess to IMDb it's not,because it has,yes I THINK too low of a rating.You take a peek at all the other \"ORIGINAL\" Disney films and they have a much higher rating than this,but nonetheless AristoCats is one of the best animation movies there is and I could enjoy it over and over again!!   \n",
              "\n",
              "       actual_sentiment  predicted_sentiment  \n",
              "11188                 0                    0  "
            ]
          },
          "execution_count": 37,
          "metadata": {},
          "output_type": "execute_result"
        }
      ],
      "source": [
        "# New data frame to examine the review, actual sentiment and predicted sentiment \n",
        "examine_df = pd.DataFrame()\n",
        "examine_df['test_reviews'] = X_test\n",
        "examine_df['actual_sentiment'] = y_test\n",
        "examine_df['predicted_sentiment'] = predicted_test\n",
        "examine_df.head(1)"
      ]
    },
    {
      "cell_type": "code",
      "execution_count": null,
      "id": "31jbF0O-7TNM",
      "metadata": {
        "colab": {
          "base_uri": "https://localhost:8080/",
          "height": 410
        },
        "id": "31jbF0O-7TNM",
        "outputId": "bcd89cd0-7bb8-4174-aa9a-aafe154211ec"
      },
      "outputs": [
        {
          "data": {
            "text/html": [
              "<div>\n",
              "<style scoped>\n",
              "    .dataframe tbody tr th:only-of-type {\n",
              "        vertical-align: middle;\n",
              "    }\n",
              "\n",
              "    .dataframe tbody tr th {\n",
              "        vertical-align: top;\n",
              "    }\n",
              "\n",
              "    .dataframe thead th {\n",
              "        text-align: right;\n",
              "    }\n",
              "</style>\n",
              "<table border=\"1\" class=\"dataframe\">\n",
              "  <thead>\n",
              "    <tr style=\"text-align: right;\">\n",
              "      <th></th>\n",
              "      <th>test_reviews</th>\n",
              "      <th>actual_sentiment</th>\n",
              "      <th>predicted_sentiment</th>\n",
              "    </tr>\n",
              "  </thead>\n",
              "  <tbody>\n",
              "    <tr>\n",
              "      <th>8585</th>\n",
              "      <td>Compared to this, Tarkovsky is a speed freak.&lt;br /&gt;&lt;br /&gt;Compared to this, Bela Tarr is MTV.&lt;br /&gt;&lt;br /&gt;Compared to this, the movie \"Russian Ark\" is a roller-coaster ride.&lt;br /&gt;&lt;br /&gt;I've just described 3 of the sllllowwwwwesssstttt experiences I've ever known, and this one tops them all. But that's not saying it's bad. On the contrary, I really liked it. But it was a chore.&lt;br /&gt;&lt;br /&gt;I won't describe the plot, because you can easily find that elsewhere. Suffice it to say that the plot is INSANE. It's one of the most creative and bizarre ideas since \"Becoming John Malkovich\". I believe the interesting plot is the main reason I kept from nodding off (also, the humour was nice. That's something we rarely see in slow, artsy films).&lt;br /&gt;&lt;br /&gt;Here we see a bizarre reversal of the norm. Most movies have little plot &amp; little substance; yet they fill 90 mins with a lot of eyecatching images to keep us enthralled. But \"The Hole\" has 100% plot/theme without much to please the eyes. In that respect, I suppose it's a truly intellectual experience, much like reading a painfully verbose novel like Thackaray's \"Vanity Fair\" (which I've NEVER been able to finish!).&lt;br /&gt;&lt;br /&gt;If you have a tremendous attention span, I think you'll really like this film. Despite its molassessy pace, it's highly creative and imaginative. It's like Jean-Pierre Jeunet on quaaludes and with a drab, dusty camera lens. Best of luck.</td>\n",
              "      <td>0</td>\n",
              "      <td>1</td>\n",
              "    </tr>\n",
              "    <tr>\n",
              "      <th>19831</th>\n",
              "      <td>Back in the 70's, a small-time Texas filmmaker named S.F. Brownrigg directed a handful of surprisingly decent low-budget drive-in horror flicks which seem to have developed a small cult following over the years. Before viewing his first film, Don't Look In The Basement, I wasn't too sure what to expect, but I sure as hell didn't expect it to turn out to be the only Texas horror I thought was better than the Chainsaw Massacre. I don't know, this might actually be my all-time favorite horror movie.&lt;br /&gt;&lt;br /&gt;We begin in an isolated insane asylum. At first, it seems like a rather laid-back place to get mentally healthy, considering all the patients are allowed to roam around freely and whatnot, as if it were their house (I guess it is). none of them seem all that dangerous, only delusional. The residents include a love-nympho, a 700 year old woman, a man-child, a spaz, a guy who thinks he's in a war, a woman who thinks she has a baby, and a guy who thinks he's a judge. One day, out of nowhere, Judge kills the doctor with an axe, shortly thereafter, the wanna-be baby mama kills the nurse. Ten minutes into the movie, and things are looking really ugly. Perhaps the new nurse will know what to do, then again, perhaps not. Giving away more would do more harm than good. It's best to plunge head first into this one, knowing as little as possible. If you can appreciate honest-to-God, untampered with horror, then you will not be disappointed. &lt;br /&gt;&lt;br /&gt;If you liked Scream, if you liked Wrong Turn, if you go for that unoriginal, over-produced, over-scored digital Hollywood garbage, then chances are high you just wont see the beauty in this one. Don't Look In The Basement, being a first attempt makes the quality all the more shocking. The atmosphere and the graininess fit into the location and the score like a glove. Unfortunately, good ol' S.F. used up most of his good ideas on his first movie, although, the next entry in his Texas-sized quadrilogy, is somewhat of a masterpiece, that is, if you're into extra sleazy, mean-spirited, Hixploitation like someone I know. If you fall in love with Brownrigg's first two, and absolutely must find out what else he had to offer, check out Don't Open The Door, and The House Where Hell Froze Over. Don't Look in The Basement has everything that successful horror needs, no stars, no budget, no digital effects, just an original story brought to life in an insane asylum, with a dozen cast members, and a somber, subtle score, and of course, the twist. This is real horror for the real horror fan. 10/10</td>\n",
              "      <td>0</td>\n",
              "      <td>1</td>\n",
              "    </tr>\n",
              "  </tbody>\n",
              "</table>\n",
              "</div>"
            ],
            "text/plain": [
              "                                                                                                                                                                                                                                                                                                                                                                                                                                                                                                                                                                                                                                                                                                                                                                                                                                                                                                                                                                                                                                                                                                                                                                                                                                                                                                                                                                                                                                                                                                                                                                                                                                                                                                                                                                                                                                                                                                                                                                                                                                                                                                                                                                                                                                                                                                                                                                                                                                                                                                                                                                                                                                                                   test_reviews  \\\n",
              "8585                                                                                                                                                                                                                                                                                                                                                                                                                                                                                                                                                                                                                                                                                                                                                                                                                                                                                                                                                                                                                                                                                                                                                                                                Compared to this, Tarkovsky is a speed freak.<br /><br />Compared to this, Bela Tarr is MTV.<br /><br />Compared to this, the movie \"Russian Ark\" is a roller-coaster ride.<br /><br />I've just described 3 of the sllllowwwwwesssstttt experiences I've ever known, and this one tops them all. But that's not saying it's bad. On the contrary, I really liked it. But it was a chore.<br /><br />I won't describe the plot, because you can easily find that elsewhere. Suffice it to say that the plot is INSANE. It's one of the most creative and bizarre ideas since \"Becoming John Malkovich\". I believe the interesting plot is the main reason I kept from nodding off (also, the humour was nice. That's something we rarely see in slow, artsy films).<br /><br />Here we see a bizarre reversal of the norm. Most movies have little plot & little substance; yet they fill 90 mins with a lot of eyecatching images to keep us enthralled. But \"The Hole\" has 100% plot/theme without much to please the eyes. In that respect, I suppose it's a truly intellectual experience, much like reading a painfully verbose novel like Thackaray's \"Vanity Fair\" (which I've NEVER been able to finish!).<br /><br />If you have a tremendous attention span, I think you'll really like this film. Despite its molassessy pace, it's highly creative and imaginative. It's like Jean-Pierre Jeunet on quaaludes and with a drab, dusty camera lens. Best of luck.   \n",
              "19831  Back in the 70's, a small-time Texas filmmaker named S.F. Brownrigg directed a handful of surprisingly decent low-budget drive-in horror flicks which seem to have developed a small cult following over the years. Before viewing his first film, Don't Look In The Basement, I wasn't too sure what to expect, but I sure as hell didn't expect it to turn out to be the only Texas horror I thought was better than the Chainsaw Massacre. I don't know, this might actually be my all-time favorite horror movie.<br /><br />We begin in an isolated insane asylum. At first, it seems like a rather laid-back place to get mentally healthy, considering all the patients are allowed to roam around freely and whatnot, as if it were their house (I guess it is). none of them seem all that dangerous, only delusional. The residents include a love-nympho, a 700 year old woman, a man-child, a spaz, a guy who thinks he's in a war, a woman who thinks she has a baby, and a guy who thinks he's a judge. One day, out of nowhere, Judge kills the doctor with an axe, shortly thereafter, the wanna-be baby mama kills the nurse. Ten minutes into the movie, and things are looking really ugly. Perhaps the new nurse will know what to do, then again, perhaps not. Giving away more would do more harm than good. It's best to plunge head first into this one, knowing as little as possible. If you can appreciate honest-to-God, untampered with horror, then you will not be disappointed. <br /><br />If you liked Scream, if you liked Wrong Turn, if you go for that unoriginal, over-produced, over-scored digital Hollywood garbage, then chances are high you just wont see the beauty in this one. Don't Look In The Basement, being a first attempt makes the quality all the more shocking. The atmosphere and the graininess fit into the location and the score like a glove. Unfortunately, good ol' S.F. used up most of his good ideas on his first movie, although, the next entry in his Texas-sized quadrilogy, is somewhat of a masterpiece, that is, if you're into extra sleazy, mean-spirited, Hixploitation like someone I know. If you fall in love with Brownrigg's first two, and absolutely must find out what else he had to offer, check out Don't Open The Door, and The House Where Hell Froze Over. Don't Look in The Basement has everything that successful horror needs, no stars, no budget, no digital effects, just an original story brought to life in an insane asylum, with a dozen cast members, and a somber, subtle score, and of course, the twist. This is real horror for the real horror fan. 10/10   \n",
              "\n",
              "       actual_sentiment  predicted_sentiment  \n",
              "8585                  0                    1  \n",
              "19831                 0                    1  "
            ]
          },
          "execution_count": 38,
          "metadata": {},
          "output_type": "execute_result"
        }
      ],
      "source": [
        "false_negative_df = examine_df[((examine_df['actual_sentiment'] == 0) & (examine_df['predicted_sentiment'] == 1)) ]\n",
        "false_negative_df.head(2)"
      ]
    },
    {
      "cell_type": "markdown",
      "id": "v5afuXtWyiXN",
      "metadata": {
        "id": "v5afuXtWyiXN"
      },
      "source": [
        "Looking at a few examples of false negative cases from the test data, few observations are as follows: In the first case the review's actual sentiment is positve but the predicted is negative. This might be because the review is has more words which may be classified as 'negative' the model might have got confused. Since the each word being classified is independent of other words and due to these confusions the model might have misclassified the reviews as negative. "
      ]
    },
    {
      "cell_type": "code",
      "execution_count": null,
      "id": "-T9FfUsu9iRM",
      "metadata": {
        "colab": {
          "base_uri": "https://localhost:8080/",
          "height": 529
        },
        "id": "-T9FfUsu9iRM",
        "outputId": "466b4235-ce5d-40fa-9268-c977bebd3199"
      },
      "outputs": [
        {
          "data": {
            "text/html": [
              "<div>\n",
              "<style scoped>\n",
              "    .dataframe tbody tr th:only-of-type {\n",
              "        vertical-align: middle;\n",
              "    }\n",
              "\n",
              "    .dataframe tbody tr th {\n",
              "        vertical-align: top;\n",
              "    }\n",
              "\n",
              "    .dataframe thead th {\n",
              "        text-align: right;\n",
              "    }\n",
              "</style>\n",
              "<table border=\"1\" class=\"dataframe\">\n",
              "  <thead>\n",
              "    <tr style=\"text-align: right;\">\n",
              "      <th></th>\n",
              "      <th>test_reviews</th>\n",
              "      <th>actual_sentiment</th>\n",
              "      <th>predicted_sentiment</th>\n",
              "    </tr>\n",
              "  </thead>\n",
              "  <tbody>\n",
              "    <tr>\n",
              "      <th>18117</th>\n",
              "      <td>On assignment in scenic Italy, beautiful lip-synching Lana Turner (as Fredda Barlo) meets older singer and prince Ezio Pinza (as Mr. Imperium). The two fall in love, while enjoying the pretty Italian countryside. Unhappily, Mr. Pinza is called away to his Kingly father's death bed, leaving Lana in the lurch. Twelve years later, Ms. Turner is a Los Angeles actress, about to make a motion picture about falling in love with a King. Turner is being romanced by co-star Barry Sullivan, who wants to marry her - then, King Pinza re-enters her lifeÂ",
              " &lt;br /&gt;&lt;br /&gt;\"Mr. Imperium\" provides a tired storyline for sex symbol Turner and debuting bass vocalist Pinza, who appeared for several decades with the New York Metropolitan Opera. Pinza likely earned his MGM feature film career after appearing in the hugely successful stage production of \"South Pacific\" (1949). The cast album, and Pinza's golden \"Some Enchanted Evening\" single, sold millions. Supporting casters Marjorie Main, Cedric Hardwicke, and Debbie Reynolds give the film a even greater sense of wasted resources.&lt;br /&gt;&lt;br /&gt;*** Mr. Imperium (1951) Don Hartman ~ Lana Turner, Ezio Pinza, Barry Sullivan</td>\n",
              "      <td>1</td>\n",
              "      <td>0</td>\n",
              "    </tr>\n",
              "    <tr>\n",
              "      <th>3134</th>\n",
              "      <td>This show comes up with interesting locations as fast as the travel channel. It is billed as reality but in actuality it is pure prime time soap opera. It's tries to use exotic locales as a facade to bring people into a phony contest &amp; then proceeds to hook viewers on the contestants soap opera style.&lt;br /&gt;&lt;br /&gt;It also borrows from an early CBS game show pioneer- Beat The Clock- by inventing situations for its contestants to try &amp; overcome. Then it rewards the winner money. If they can spice it up with a little interaction between the characters, even better. While the game format is in slow motion versus Beat The Clock- the real accomplishment of this series is to escape reality. &lt;br /&gt;&lt;br /&gt;This show has elements of several types of successful past programs. Reality television, hardly, but if your hooked on the contestants, locale or contest, this is your cup of tea. If your not, this entire series is as I say, drivel dripping with gravy. It is another show hiding behind the reality label which is the trend it started in 2000.&lt;br /&gt;&lt;br /&gt;It is slick &amp; well produced, so it might last a while yet. After all, so do re-runs of Gilligan's Island, Green Acres, The Beverly Hillbillies &amp; The Brady Bunch. This just doesn't employ professional actors. The intelligence level is about the same.</td>\n",
              "      <td>1</td>\n",
              "      <td>0</td>\n",
              "    </tr>\n",
              "  </tbody>\n",
              "</table>\n",
              "</div>"
            ],
            "text/plain": [
              "                                                                                                                                                                                                                                                                                                                                                                                                                                                                                                                                                                                                                                                                                                                                                                                                                                                                                                                                                                                                                                                                                                                                                                                                                                                                                                                                                     test_reviews  \\\n",
              "18117                                                                                                                                                   On assignment in scenic Italy, beautiful lip-synching Lana Turner (as Fredda Barlo) meets older singer and prince Ezio Pinza (as Mr. Imperium). The two fall in love, while enjoying the pretty Italian countryside. Unhappily, Mr. Pinza is called away to his Kingly father's death bed, leaving Lana in the lurch. Twelve years later, Ms. Turner is a Los Angeles actress, about to make a motion picture about falling in love with a King. Turner is being romanced by co-star Barry Sullivan, who wants to marry her - then, King Pinza re-enters her lifeÂ\n",
              " <br /><br />\"Mr. Imperium\" provides a tired storyline for sex symbol Turner and debuting bass vocalist Pinza, who appeared for several decades with the New York Metropolitan Opera. Pinza likely earned his MGM feature film career after appearing in the hugely successful stage production of \"South Pacific\" (1949). The cast album, and Pinza's golden \"Some Enchanted Evening\" single, sold millions. Supporting casters Marjorie Main, Cedric Hardwicke, and Debbie Reynolds give the film a even greater sense of wasted resources.<br /><br />*** Mr. Imperium (1951) Don Hartman ~ Lana Turner, Ezio Pinza, Barry Sullivan   \n",
              "3134   This show comes up with interesting locations as fast as the travel channel. It is billed as reality but in actuality it is pure prime time soap opera. It's tries to use exotic locales as a facade to bring people into a phony contest & then proceeds to hook viewers on the contestants soap opera style.<br /><br />It also borrows from an early CBS game show pioneer- Beat The Clock- by inventing situations for its contestants to try & overcome. Then it rewards the winner money. If they can spice it up with a little interaction between the characters, even better. While the game format is in slow motion versus Beat The Clock- the real accomplishment of this series is to escape reality. <br /><br />This show has elements of several types of successful past programs. Reality television, hardly, but if your hooked on the contestants, locale or contest, this is your cup of tea. If your not, this entire series is as I say, drivel dripping with gravy. It is another show hiding behind the reality label which is the trend it started in 2000.<br /><br />It is slick & well produced, so it might last a while yet. After all, so do re-runs of Gilligan's Island, Green Acres, The Beverly Hillbillies & The Brady Bunch. This just doesn't employ professional actors. The intelligence level is about the same.   \n",
              "\n",
              "       actual_sentiment  predicted_sentiment  \n",
              "18117                 1                    0  \n",
              "3134                  1                    0  "
            ]
          },
          "execution_count": 39,
          "metadata": {},
          "output_type": "execute_result"
        }
      ],
      "source": [
        "false_positive_df = examine_df[((examine_df['actual_sentiment'] == 1) & (examine_df['predicted_sentiment'] == 0)) ]\n",
        "false_positive_df.tail(2)"
      ]
    },
    {
      "cell_type": "markdown",
      "id": "nNEFu9_q0QGh",
      "metadata": {
        "id": "nNEFu9_q0QGh"
      },
      "source": [
        "Looking at a few examples of false positive cases from the test data, few observations are as follows: Both the reviews have words like - successful, classic, joy, gratefullness which are often associated with positive reviews. This might be the cause that the model predicted them as 'positive' when they were actually negative reviews."
      ]
    }
  ],
  "metadata": {
    "colab": {
      "collapsed_sections": [],
      "name": "Naive Bayes.ipynb",
      "provenance": [],
      "toc_visible": true
    },
    "kernelspec": {
      "display_name": "Python 3 (ipykernel)",
      "language": "python",
      "name": "python3"
    },
    "language_info": {
      "codemirror_mode": {
        "name": "ipython",
        "version": 3
      },
      "file_extension": ".py",
      "mimetype": "text/x-python",
      "name": "python",
      "nbconvert_exporter": "python",
      "pygments_lexer": "ipython3",
      "version": "3.9.12"
    }
  },
  "nbformat": 4,
  "nbformat_minor": 5
}